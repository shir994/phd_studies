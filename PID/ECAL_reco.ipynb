{
 "cells": [
  {
   "cell_type": "code",
   "execution_count": 1,
   "metadata": {
    "collapsed": false
   },
   "outputs": [
    {
     "name": "stderr",
     "output_type": "stream",
     "text": [
      "/Library/Frameworks/Python.framework/Versions/3.5/lib/python3.5/site-packages/root_numpy/__init__.py:46: RuntimeWarning: numpy 1.14.2 is currently installed but you installed root_numpy against numpy 1.11.3. Please consider reinstalling root_numpy for this numpy version.\n",
      "  RuntimeWarning)\n"
     ]
    }
   ],
   "source": [
    "from mpl_toolkits.mplot3d import Axes3D\n",
    "from mpl_toolkits.mplot3d.art3d import Line3DCollection\n",
    "from matplotlib import pylab as plt \n",
    "import root_numpy\n",
    "import pandas as pd\n",
    "import numpy\n",
    "#import seaborn\n",
    "%matplotlib inline\n",
    "#%matplotlib notebook\n",
    "import numpy as np"
   ]
  },
  {
   "cell_type": "code",
   "execution_count": 2,
   "metadata": {
    "collapsed": false
   },
   "outputs": [],
   "source": [
    "def read_data(name, sub_folder, variables, treename=\"cbmsim\"):\n",
    "    return root_numpy.root2array(name, \n",
    "                                 treename=treename, \n",
    "                                 branches=[sub_folder + \".\" + branch for branch in variables])"
   ]
  },
  {
   "cell_type": "code",
   "execution_count": 3,
   "metadata": {
    "collapsed": false
   },
   "outputs": [],
   "source": [
    "#ecal_coords = read_data(\"ship.conical.PG-TGeant4_electron.root\", \"EcalPoint\", [\"EcalPont.fX\", \"EcalPoint.fY\"])"
   ]
  },
  {
   "cell_type": "code",
   "execution_count": 4,
   "metadata": {
    "collapsed": false
   },
   "outputs": [],
   "source": [
    "# df = pd.DataFrame(columns = ['X', 'Y'])\n",
    "# for index, event in enumerate(ecal_coords):\n",
    "#     df.loc[index]= event"
   ]
  },
  {
   "cell_type": "code",
   "execution_count": 5,
   "metadata": {
    "collapsed": false
   },
   "outputs": [],
   "source": [
    "# X_list = []\n",
    "# for value in df['X'].values:\n",
    "#     X_list.extend(value[0])"
   ]
  },
  {
   "cell_type": "code",
   "execution_count": 21,
   "metadata": {
    "collapsed": true
   },
   "outputs": [],
   "source": [
    "filename = \"5000_ele_ship.conical.PG-TGeant4_rec.root\"\n",
    "#filename = \"ship.conical.PG-TGeant4_rec_muon.root\""
   ]
  },
  {
   "cell_type": "code",
   "execution_count": 22,
   "metadata": {
    "collapsed": false
   },
   "outputs": [
    {
     "name": "stdout",
     "output_type": "stream",
     "text": [
      "CPU times: user 386 ms, sys: 21.3 ms, total: 407 ms\n",
      "Wall time: 446 ms\n"
     ]
    }
   ],
   "source": [
    "%%time\n",
    "true_tracks = read_data(filename, \"MCTrack\",\n",
    "                        [\"MCTrack.fStartX\", \"MCTrack.fStartY\", \"MCTrack.fStartZ\"])"
   ]
  },
  {
   "cell_type": "code",
   "execution_count": 23,
   "metadata": {
    "collapsed": false
   },
   "outputs": [],
   "source": [
    "ecal_coords = read_data(filename, \"EcalPointLite\",\n",
    "                        [\"fDetectorID\", \"fELoss\", 'fTrackID'])"
   ]
  },
  {
   "cell_type": "code",
   "execution_count": 24,
   "metadata": {
    "collapsed": true
   },
   "outputs": [],
   "source": [
    "ecal_coords_point = read_data(filename, \"EcalPoint\",\n",
    "                        [\"EcalPoint.fX\", \"EcalPoint.fY\", 'fTime','fTrackID'])"
   ]
  },
  {
   "cell_type": "markdown",
   "metadata": {},
   "source": [
    "## convert to cells"
   ]
  },
  {
   "cell_type": "code",
   "execution_count": 25,
   "metadata": {
    "collapsed": true
   },
   "outputs": [],
   "source": [
    "# Int_t volid=fVolID;\n",
    "#   Int_t cell=volid%100-1;\n",
    "#     volid=volid-cell-1;\n",
    "#     volid/=100;\n",
    "    \n",
    "    \n",
    "#   Int_t mx=volid%100;\n",
    "#     volid-=mx;\n",
    "#     volid/=100;\n",
    "    \n",
    "#   Int_t my=volid%100; \n",
    "#     volid-=my;\n",
    "#     volid/=100;\n",
    "    \n",
    "    \n",
    "#   Int_t type=inf->GetType(mx, my);\n",
    "#   Int_t cx=cell%type;\n",
    "#   Int_t cy=cell/type;"
   ]
  },
  {
   "cell_type": "code",
   "execution_count": 26,
   "metadata": {
    "collapsed": true
   },
   "outputs": [],
   "source": [
    "def get_position(detector_id, cell_type=2):\n",
    "    cell = detector_id % 100 - 1\n",
    "    cell_column = cell % cell_type\n",
    "    cell_row = cell // cell_type\n",
    "\n",
    "    detector_id -= (cell + 1)\n",
    "    detector_id //= 100\n",
    "\n",
    "    module_column = detector_id % 100\n",
    "    detector_id -= module_column\n",
    "    detector_id //= 100\n",
    "\n",
    "    module_row = detector_id % 100\n",
    "    detector_id -= module_row\n",
    "    detector_id //= 100\n",
    "    return ((module_column, module_row), (cell_column, cell_row))"
   ]
  },
  {
   "cell_type": "code",
   "execution_count": 27,
   "metadata": {
    "collapsed": false
   },
   "outputs": [],
   "source": [
    "# def get_picture(event, cell_type=2):\n",
    "#     hits_position = [get_position(id) for id in event[0]]\n",
    "    \n",
    "#     min_col = min(hits_position, key=lambda x: x[0][0])[0][0]\n",
    "#     min_row = min(hits_position, key=lambda x: x[0][1])[0][1]\n",
    "    \n",
    "#     max_col = max(hits_position, key=lambda x: x[0][0])[0][0]\n",
    "#     max_row = max(hits_position, key=lambda x: x[0][1])[0][1]\n",
    "#     print(min_col, max_col, min_row, max_row)\n",
    "    \n",
    "#     #hits_picture = np.zeros(((max_row - min_row + 1) * cell_type, (max_col - min_col + 1) * cell_type))\n",
    "    \n",
    "#     hits_picture = np.zeros((100, 100))\n",
    "    \n",
    "#     for coords, energy in zip(hits_position, event[1]):\n",
    "#         hits_picture[(coords[0][1] - min_row) * cell_type + coords[1][1],\n",
    "#                      (coords[0][0] - min_col) * cell_type + coords[1][0]] += energy\n",
    "\n",
    "#     hits_picture /= hits_picture.max()\n",
    "    \n",
    "    \n",
    "#     max_row, max_col = np.where(hits_picture == 1)\n",
    "#     print(max_row, max_col)\n",
    "#     return hits_picture[max_row[0] - 3 : max_row[0] + 3, max_col[0] - 3 : max_col[0] + 3]"
   ]
  },
  {
   "cell_type": "code",
   "execution_count": 28,
   "metadata": {
    "collapsed": true
   },
   "outputs": [],
   "source": [
    "def get_picture(event, cell_type=2, offset=100):\n",
    "    hits_position = [get_position(id) for id in event[0]]\n",
    "    \n",
    "    min_col = min(hits_position, key=lambda x: x[0][0])[0][0]\n",
    "    min_row = min(hits_position, key=lambda x: x[0][1])[0][1]\n",
    "    \n",
    "    max_col = max(hits_position, key=lambda x: x[0][0])[0][0]\n",
    "    max_row = max(hits_position, key=lambda x: x[0][1])[0][1]\n",
    "    #print(min_row, max_row, min_col, max_col)\n",
    "    #print(max(hits_position, key=lambda x: x[0][1]))\n",
    "    #hits_picture = np.zeros(((max_row - min_row + 1) * cell_type, (max_col - min_col + 1) * cell_type))\n",
    "    \n",
    "    hits_picture = np.zeros((offset * 3, offset * 3))\n",
    "    \n",
    "    for coords, energy in zip(hits_position, event[1]):\n",
    "        hits_picture[(coords[0][1]) * cell_type + coords[1][1] + offset,\n",
    "                     (coords[0][0]) * cell_type + coords[1][0] + offset] += energy\n",
    "\n",
    "    #hits_picture /= hits_picture.max()\n",
    "    \n",
    "    max_val = hits_picture.max()\n",
    "    max_row, max_col = np.where(hits_picture == max_val)\n",
    "    #print(max_row, max_col)\n",
    "    #return hits_picture\n",
    "    return hits_picture[max_row[0] - 10 : max_row[0] + 10, max_col[0] - 10 : max_col[0] + 10]"
   ]
  },
  {
   "cell_type": "code",
   "execution_count": 29,
   "metadata": {
    "collapsed": true
   },
   "outputs": [],
   "source": [
    "def find_max_coords(event, cell_type=2):\n",
    "    hits_position = [get_position(id) for id in event[0]]\n",
    "    \n",
    "    min_col = min(hits_position, key=lambda x: x[0][0])[0][0]\n",
    "    min_row = min(hits_position, key=lambda x: x[0][1])[0][1]\n",
    "    \n",
    "    max_col = max(hits_position, key=lambda x: x[0][0])[0][0]\n",
    "    max_row = max(hits_position, key=lambda x: x[0][1])[0][1]\n",
    "    \n",
    "    return max_col - min_col, max_row - min_row"
   ]
  },
  {
   "cell_type": "code",
   "execution_count": 30,
   "metadata": {
    "collapsed": false
   },
   "outputs": [],
   "source": [
    "column_diff, row_diff = [], []\n",
    "for event in ecal_coords:\n",
    "    filter_ind = event[2] > 0    \n",
    "    if len(event[0][filter_ind]) > 0:\n",
    "        diff_col, diff_row = find_max_coords([event[0][filter_ind]])\n",
    "        column_diff.append(diff_col)\n",
    "        row_diff.append(diff_row)"
   ]
  },
  {
   "cell_type": "code",
   "execution_count": 31,
   "metadata": {
    "collapsed": false
   },
   "outputs": [
    {
     "data": {
      "text/plain": [
       "4955"
      ]
     },
     "execution_count": 31,
     "metadata": {},
     "output_type": "execute_result"
    }
   ],
   "source": [
    "len(row_diff)"
   ]
  },
  {
   "cell_type": "code",
   "execution_count": 32,
   "metadata": {
    "collapsed": false
   },
   "outputs": [
    {
     "data": {
      "image/png": "[encoded data removed]",
      "text/plain": [
       "<matplotlib.figure.Figure at 0x12588d358>"
      ]
     },
     "metadata": {},
     "output_type": "display_data"
    }
   ],
   "source": [
    "plt.hist(column_diff);"
   ]
  },
  {
   "cell_type": "code",
   "execution_count": 33,
   "metadata": {
    "collapsed": false
   },
   "outputs": [
    {
     "data": {
      "text/plain": [
       "40"
      ]
     },
     "execution_count": 33,
     "metadata": {},
     "output_type": "execute_result"
    }
   ],
   "source": [
    "(np.array(row_diff) > 8).sum()"
   ]
  },
  {
   "cell_type": "code",
   "execution_count": 34,
   "metadata": {
    "collapsed": false
   },
   "outputs": [
    {
     "data": {
      "text/plain": [
       "23"
      ]
     },
     "execution_count": 34,
     "metadata": {},
     "output_type": "execute_result"
    }
   ],
   "source": [
    "(np.array(column_diff) > 8).sum()"
   ]
  },
  {
   "cell_type": "code",
   "execution_count": 35,
   "metadata": {
    "collapsed": false
   },
   "outputs": [
    {
     "data": {
      "image/png": "[encoded data removed]",
      "text/plain": [
       "<matplotlib.figure.Figure at 0x1257430b8>"
      ]
     },
     "metadata": {},
     "output_type": "display_data"
    }
   ],
   "source": [
    "plt.hist(row_diff);"
   ]
  },
  {
   "cell_type": "code",
   "execution_count": 43,
   "metadata": {
    "collapsed": false
   },
   "outputs": [
    {
     "data": {
      "text/plain": [
       "(176, (7, 26))"
      ]
     },
     "execution_count": 43,
     "metadata": {},
     "output_type": "execute_result"
    }
   ],
   "source": [
    "max([find_max_coords(event) for event in ecal_coords], key=lambda x: x[0])\n",
    "max([(index, find_max_coords(event)) for index, event in enumerate(ecal_coords)], key=lambda x: x[1][1])"
   ]
  },
  {
   "cell_type": "code",
   "execution_count": 66,
   "metadata": {
    "collapsed": false
   },
   "outputs": [
    {
     "data": {
      "text/plain": [
       "(82,)"
      ]
     },
     "execution_count": 66,
     "metadata": {},
     "output_type": "execute_result"
    }
   ],
   "source": [
    "event_detector[0].shape"
   ]
  },
  {
   "cell_type": "code",
   "execution_count": 163,
   "metadata": {
    "collapsed": false
   },
   "outputs": [
    {
     "name": "stdout",
     "output_type": "stream",
     "text": [
      "X: -12\n",
      "Y: -48\n"
     ]
    }
   ],
   "source": [
    "print(\"X:\", 12 * (21 - 22))\n",
    "print(\"Y:\", 12 * (39 - 48) + 60)"
   ]
  },
  {
   "cell_type": "code",
   "execution_count": 178,
   "metadata": {
    "collapsed": true
   },
   "outputs": [],
   "source": [
    "index = 1"
   ]
  },
  {
   "cell_type": "code",
   "execution_count": 179,
   "metadata": {
    "collapsed": false
   },
   "outputs": [
    {
     "name": "stdout",
     "output_type": "stream",
     "text": [
      "[ 0.          0.01811624 -0.03666231 -0.04171884 -0.04248096  0.08033624\n",
      " -0.04248096  0.42292842 -0.00522988  0.31972    -0.0403336   0.0401986\n",
      " -0.03356046  0.13481428  0.13481428  0.13490736  0.15004736  0.13923356\n",
      "  0.0401986   0.04033255  0.04885241]\n",
      "[  0.         -61.83911896 -61.53942871 -61.2924118  -61.42115402\n",
      " -63.00620651 -61.42115402 -63.36368942 -61.87334824 -63.44326019\n",
      " -61.55535507 -63.18338776 -61.64765167 -63.44700623 -63.44700623\n",
      " -63.4480896  -63.47952652 -63.51860428 -63.18338776 -63.18550491\n",
      " -63.31452942]\n"
     ]
    }
   ],
   "source": [
    "print(true_tracks[index][0])\n",
    "print(true_tracks[index][1])"
   ]
  },
  {
   "cell_type": "code",
   "execution_count": 180,
   "metadata": {
    "collapsed": false
   },
   "outputs": [
    {
     "name": "stdout",
     "output_type": "stream",
     "text": [
      "[ 3.08127880e-01  4.60853487e-01  2.76529759e-01  2.00022891e-01\n",
      "  1.36494160e-01  1.11421756e-01  7.31690675e-02 -6.59275427e-02\n",
      " -1.00800457e+01  5.42800665e-01  4.10597712e-01  1.12475790e-01\n",
      "  2.81931311e-01  2.24732980e-01  6.42723665e-02  3.82922068e-02\n",
      "  1.07251845e-01 -6.58131485e+01]\n",
      "[-63.46014023 -63.3750267  -63.07549667 -63.04738235 -62.93029022\n",
      " -62.90290451 -62.91635513 -63.01893234 -22.72583199 -63.86608505\n",
      " -63.05083084 -63.02993774 -63.26069641 -63.18275452 -63.12763596\n",
      " -63.14484787 -63.15245819  31.08253479]\n",
      "[123.37902832 123.37880707 123.37752533 123.37738037 123.37699127\n",
      " 123.37689972 123.37693024 123.37722778 123.45582581 123.38140869\n",
      " 123.37759399 123.37729645 123.37817383 123.37785339 123.37759399\n",
      " 123.3776474  123.37769318 127.52762604]\n",
      "[ 0  1 -2 -2 -2 -2  2 -2 -2  4  6 -2  8 -2 -2 10 12 -2]\n"
     ]
    }
   ],
   "source": [
    "print(ecal_coords_point[index][0])\n",
    "print(ecal_coords_point[index][1])\n",
    "print(ecal_coords_point[index][2])\n",
    "print(ecal_coords_point[index][3])"
   ]
  },
  {
   "cell_type": "code",
   "execution_count": null,
   "metadata": {
    "collapsed": true
   },
   "outputs": [],
   "source": []
  },
  {
   "cell_type": "code",
   "execution_count": 181,
   "metadata": {
    "collapsed": false
   },
   "outputs": [
    {
     "data": {
      "text/plain": [
       "array([ 0,  0,  0,  0,  1,  1,  1,  1, -2, -2, -2,  2, -2,  4,  2, -2,  2,\n",
       "       -2, -2,  1,  6,  6,  6,  6,  6,  6,  8,  8,  8,  8, -2, -2, 10, 10,\n",
       "       10, 10, -2,  2,  4,  4,  4, 12, 12, 12, 12, 12, 12, 12, 12, 12, 10,\n",
       "       10, 10, 10,  8,  6,  6,  2,  2,  6,  6,  0,  6], dtype=int32)"
      ]
     },
     "execution_count": 181,
     "metadata": {},
     "output_type": "execute_result"
    }
   ],
   "source": [
    "ecal_coords[index][2]"
   ]
  },
  {
   "cell_type": "code",
   "execution_count": 162,
   "metadata": {
    "collapsed": false
   },
   "outputs": [
    {
     "name": "stdout",
     "output_type": "stream",
     "text": [
      "392102\n"
     ]
    },
    {
     "data": {
      "text/plain": [
       "array([372203, 372104, 371904, 372102, 372201, 382201, 362103, 372101,\n",
       "       382102, 372103, 372203, 372104, 372102, 372203, 372102, 372203,\n",
       "       372203, 372201, 372104, 372102, 372203, 372203, 372203, 372203,\n",
       "       372104, 372201, 372104, 372203, 372203, 372203, 372104, 372201,\n",
       "       362104, 372104, 372102, 372201, 372203, 372201, 372102, 362203,\n",
       "       362201, 362104, 372203, 372104, 372201, 382202, 372104, 372102,\n",
       "       362104, 372201, 362103, 372204, 372202, 372203, 362103, 372102,\n",
       "       372102, 372104, 372201, 382104, 382201, 372104, 372104, 362203,\n",
       "       372202, 362303, 372102, 372201, 372101, 371902, 362004, 362203,\n",
       "       372003, 382002, 362204, 382101, 362304, 392102, 382203, 362104,\n",
       "       372204, 362301], dtype=int32)"
      ]
     },
     "execution_count": 162,
     "metadata": {},
     "output_type": "execute_result"
    }
   ],
   "source": [
    "print(max(ecal_coords[index][0]))\n",
    "ecal_coords[index][0]"
   ]
  },
  {
   "cell_type": "code",
   "execution_count": 175,
   "metadata": {
    "collapsed": false
   },
   "outputs": [],
   "source": [
    "bad_event_ind = []\n",
    "for index, coords in enumerate(ecal_coords_point):\n",
    "    if len(coords[2]) > 1:\n",
    "        if np.max(np.abs(np.diff(coords[2]))) > 2:\n",
    "            bad_event_ind.append(index)"
   ]
  },
  {
   "cell_type": "code",
   "execution_count": 176,
   "metadata": {
    "collapsed": false
   },
   "outputs": [
    {
     "data": {
      "text/plain": [
       "[1, 7, 129, 156, 176, 196, 249, 382, 436, 460, 472, 476, 491]"
      ]
     },
     "execution_count": 176,
     "metadata": {},
     "output_type": "execute_result"
    }
   ],
   "source": [
    "bad_event_ind"
   ]
  },
  {
   "cell_type": "code",
   "execution_count": 177,
   "metadata": {
    "collapsed": false
   },
   "outputs": [
    {
     "data": {
      "text/plain": [
       "array([123.42166901, 123.42003632, 123.42408752, 123.41804504,\n",
       "       123.42194366, 123.41989136, 123.420578  , 123.42147827,\n",
       "       123.42136383, 123.42156219, 123.44567108, 123.42393494,\n",
       "       133.29646301])"
      ]
     },
     "execution_count": 177,
     "metadata": {},
     "output_type": "execute_result"
    }
   ],
   "source": [
    "ecal_coords_point[436][2]"
   ]
  },
  {
   "cell_type": "code",
   "execution_count": null,
   "metadata": {
    "collapsed": true
   },
   "outputs": [],
   "source": []
  },
  {
   "cell_type": "code",
   "execution_count": 124,
   "metadata": {
    "collapsed": false
   },
   "outputs": [
    {
     "data": {
      "text/plain": [
       "((22, 37), (0, 1))"
      ]
     },
     "execution_count": 124,
     "metadata": {},
     "output_type": "execute_result"
    }
   ],
   "source": [
    "get_position(372203)"
   ]
  },
  {
   "cell_type": "code",
   "execution_count": 36,
   "metadata": {
    "collapsed": false
   },
   "outputs": [],
   "source": [
    "response = get_picture(ecal_coords[10])"
   ]
  },
  {
   "cell_type": "code",
   "execution_count": 37,
   "metadata": {
    "collapsed": false
   },
   "outputs": [
    {
     "data": {
      "text/plain": [
       "array([0.00000000e+00, 1.42876641e-04, 2.48011493e-04, 2.56285741e-04,\n",
       "       3.18950333e-04, 3.55660071e-04, 5.90928961e-04, 6.63591665e-04,\n",
       "       7.10258842e-04, 7.42029864e-04, 9.17699595e-04, 9.81971643e-04,\n",
       "       1.04728690e-03, 1.09443418e-03, 1.12760800e-03, 1.16762274e-03,\n",
       "       1.19482091e-03, 1.52357328e-03, 1.57186888e-03, 1.71247666e-03,\n",
       "       1.72594338e-03, 2.43665976e-03, 2.48597909e-03, 2.58640700e-03,\n",
       "       3.31326219e-03, 5.95386699e-03, 6.69333537e-03, 9.27670272e-03,\n",
       "       9.76916401e-03, 1.30811349e-02, 2.22865288e-02, 3.99976959e-02,\n",
       "       6.73732200e-02, 9.61790545e-02, 1.19610662e+00])"
      ]
     },
     "execution_count": 37,
     "metadata": {},
     "output_type": "execute_result"
    }
   ],
   "source": [
    "np.unique(response)"
   ]
  },
  {
   "cell_type": "code",
   "execution_count": null,
   "metadata": {
    "collapsed": true
   },
   "outputs": [],
   "source": []
  },
  {
   "cell_type": "code",
   "execution_count": 38,
   "metadata": {
    "collapsed": false
   },
   "outputs": [
    {
     "data": {
      "text/plain": [
       "<matplotlib.image.AxesImage at 0x125782438>"
      ]
     },
     "execution_count": 38,
     "metadata": {},
     "output_type": "execute_result"
    },
    {
     "data": {
      "image/png": "[encoded data removed]",
      "text/plain": [
       "<matplotlib.figure.Figure at 0x12570def0>"
      ]
     },
     "metadata": {},
     "output_type": "display_data"
    }
   ],
   "source": [
    "#print(e_energy[100])\n",
    "plt.imshow(response)"
   ]
  },
  {
   "cell_type": "markdown",
   "metadata": {},
   "source": [
    "## Get matrix of pictures"
   ]
  },
  {
   "cell_type": "code",
   "execution_count": 39,
   "metadata": {
    "collapsed": false
   },
   "outputs": [
    {
     "name": "stdout",
     "output_type": "stream",
     "text": [
      "0\n",
      "1000\n",
      "2000\n",
      "3000\n",
      "4000\n"
     ]
    }
   ],
   "source": [
    "response_pictures = np.zeros((len(ecal_coords), 20, 20))\n",
    "for index, event in enumerate(ecal_coords):\n",
    "    if not index % 1000:\n",
    "        print(index)\n",
    "    response_pictures[index] = get_picture(event)"
   ]
  },
  {
   "cell_type": "markdown",
   "metadata": {},
   "source": [
    "## Get electron true energy"
   ]
  },
  {
   "cell_type": "code",
   "execution_count": 40,
   "metadata": {
    "collapsed": true
   },
   "outputs": [],
   "source": [
    "import math"
   ]
  },
  {
   "cell_type": "code",
   "execution_count": 41,
   "metadata": {
    "collapsed": false
   },
   "outputs": [],
   "source": [
    "true_e_momentum = read_data(filename,\"MCTrack\",\n",
    "                             [\"MCTrack.fPx\", \"MCTrack.fPy\", \"MCTrack.fPz\", \"MCTrack.fM\"])"
   ]
  },
  {
   "cell_type": "code",
   "execution_count": 42,
   "metadata": {
    "collapsed": false
   },
   "outputs": [],
   "source": [
    "e_energy = []\n",
    "for electron in true_e_momentum:\n",
    "    energy = math.sqrt(sum([val[0]**2 for val in electron]))\n",
    "    e_energy.append(energy)\n",
    "e_energy = np.array(e_energy)"
   ]
  },
  {
   "cell_type": "code",
   "execution_count": 43,
   "metadata": {
    "collapsed": false
   },
   "outputs": [],
   "source": [
    "e_loss_lite = []\n",
    "for e_loss in ecal_coords:\n",
    "    e_loss_lite.append(np.sum(e_loss[1]))\n",
    "e_loss_lite = np.array(e_loss_lite)\n",
    "\n",
    "\n",
    "e_loss_lite_new = []\n",
    "for e_loss in response_pictures:\n",
    "    e_loss_lite_new.append(np.sum(e_loss))\n",
    "e_loss_lite_new = np.array(e_loss_lite_new)"
   ]
  },
  {
   "cell_type": "code",
   "execution_count": 44,
   "metadata": {
    "collapsed": false
   },
   "outputs": [
    {
     "data": {
      "text/plain": [
       "<matplotlib.collections.PathCollection at 0x12918a860>"
      ]
     },
     "execution_count": 44,
     "metadata": {},
     "output_type": "execute_result"
    },
    {
     "data": {
      "image/png": "[encoded data removed]",
      "text/plain": [
       "<matplotlib.figure.Figure at 0x125705da0>"
      ]
     },
     "metadata": {},
     "output_type": "display_data"
    }
   ],
   "source": [
    "f, axes = plt.subplots(1, 2, figsize=(16,6))\n",
    "axes[0].scatter(e_loss_lite, e_energy)\n",
    "axes[1].scatter(e_loss_lite_new, e_energy)\n",
    "#plt.scatter(e_loss_lite, e_energy)\n",
    "#plt.xlim(1, 1.1)"
   ]
  },
  {
   "cell_type": "code",
   "execution_count": 212,
   "metadata": {
    "collapsed": false
   },
   "outputs": [
    {
     "data": {
      "image/png": "[encoded data removed]",
      "text/plain": [
       "<matplotlib.figure.Figure at 0x125401358>"
      ]
     },
     "metadata": {},
     "output_type": "display_data"
    }
   ],
   "source": [
    "plt.hist(e_loss_lite);"
   ]
  },
  {
   "cell_type": "markdown",
   "metadata": {},
   "source": [
    "## ML"
   ]
  },
  {
   "cell_type": "code",
   "execution_count": 39,
   "metadata": {
    "collapsed": false
   },
   "outputs": [],
   "source": [
    "from sklearn.model_selection import train_test_split"
   ]
  },
  {
   "cell_type": "code",
   "execution_count": 40,
   "metadata": {
    "collapsed": false
   },
   "outputs": [],
   "source": [
    "#X_train, X_test, y_train, y_test = train_test_split(response_pictures, e_energy)\n",
    "train_ind, test_ind = train_test_split(np.array(range(len(response_pictures))), test_size=0.1)"
   ]
  },
  {
   "cell_type": "code",
   "execution_count": 48,
   "metadata": {
    "collapsed": false
   },
   "outputs": [],
   "source": [
    "# X_train, X_test, y_train, y_test = response_pictures[train_ind], response_pictures[test_ind],\\\n",
    "#                                    e_energy[train_ind], e_energy[test_ind]\n",
    "\n",
    "X_train, X_test, y_train, y_test = e_loss_lite_new[train_ind], e_loss_lite_new[test_ind],\\\n",
    "                                   e_energy[train_ind], e_energy[test_ind]"
   ]
  },
  {
   "cell_type": "code",
   "execution_count": 49,
   "metadata": {
    "collapsed": false
   },
   "outputs": [
    {
     "data": {
      "text/plain": [
       "(4500,)"
      ]
     },
     "execution_count": 49,
     "metadata": {},
     "output_type": "execute_result"
    }
   ],
   "source": [
    "X_train.shape"
   ]
  },
  {
   "cell_type": "code",
   "execution_count": 50,
   "metadata": {
    "collapsed": false
   },
   "outputs": [],
   "source": [
    "from sklearn.linear_model import Ridge\n",
    "from xgboost import XGBRegressor\n",
    "from sklearn.metrics import mean_squared_error"
   ]
  },
  {
   "cell_type": "code",
   "execution_count": null,
   "metadata": {
    "collapsed": true
   },
   "outputs": [],
   "source": []
  },
  {
   "cell_type": "code",
   "execution_count": 217,
   "metadata": {
    "collapsed": false
   },
   "outputs": [],
   "source": [
    "res = []\n",
    "for alpha in np.logspace(-5, 5, 100):\n",
    "    reg = Ridge(alpha=alpha)\n",
    "    reg.fit(X_train.reshape(X_train.shape[0], -1), y_train)\n",
    "    ans = reg.predict(X_test.reshape(X_test.shape[0], -1))\n",
    "    res.append(mean_squared_error(y_test, ans))"
   ]
  },
  {
   "cell_type": "code",
   "execution_count": 51,
   "metadata": {
    "collapsed": false
   },
   "outputs": [
    {
     "data": {
      "text/plain": [
       "XGBRegressor(base_score=0.5, booster='gbtree', colsample_bylevel=1,\n",
       "       colsample_bytree=1, gamma=0, learning_rate=0.1, max_delta_step=0,\n",
       "       max_depth=3, min_child_weight=1, missing=None, n_estimators=100,\n",
       "       n_jobs=1, nthread=None, objective='reg:linear', random_state=0,\n",
       "       reg_alpha=0, reg_lambda=1, scale_pos_weight=1, seed=None,\n",
       "       silent=True, subsample=1)"
      ]
     },
     "execution_count": 51,
     "metadata": {},
     "output_type": "execute_result"
    }
   ],
   "source": [
    "reg = XGBRegressor()\n",
    "reg.fit(X_train.reshape(X_train.shape[0], -1), y_train)"
   ]
  },
  {
   "cell_type": "code",
   "execution_count": 52,
   "metadata": {
    "collapsed": true
   },
   "outputs": [],
   "source": [
    "ans = reg.predict(X_test.reshape(X_test.shape[0], -1))"
   ]
  },
  {
   "cell_type": "code",
   "execution_count": 53,
   "metadata": {
    "collapsed": false
   },
   "outputs": [
    {
     "data": {
      "text/plain": [
       "0.025941219846947874"
      ]
     },
     "execution_count": 53,
     "metadata": {},
     "output_type": "execute_result"
    }
   ],
   "source": [
    "np.std((y_test - ans) / y_test)"
   ]
  },
  {
   "cell_type": "code",
   "execution_count": 54,
   "metadata": {
    "collapsed": false
   },
   "outputs": [
    {
     "data": {
      "text/plain": [
       "0.03341882845757347"
      ]
     },
     "execution_count": 54,
     "metadata": {},
     "output_type": "execute_result"
    }
   ],
   "source": [
    "mean_squared_error(y_test, ans)"
   ]
  },
  {
   "cell_type": "code",
   "execution_count": 62,
   "metadata": {
    "collapsed": false
   },
   "outputs": [
    {
     "data": {
      "text/plain": [
       "0.025562806149365753"
      ]
     },
     "execution_count": 62,
     "metadata": {},
     "output_type": "execute_result"
    }
   ],
   "source": [
    "np.std((recon_energy[test_ind] - y_test) / y_test)"
   ]
  },
  {
   "cell_type": "code",
   "execution_count": 63,
   "metadata": {
    "collapsed": false
   },
   "outputs": [
    {
     "data": {
      "text/plain": [
       "0.04425545844766282"
      ]
     },
     "execution_count": 63,
     "metadata": {},
     "output_type": "execute_result"
    }
   ],
   "source": [
    "mean_squared_error(y_test, recon_energy[test_ind])"
   ]
  },
  {
   "cell_type": "code",
   "execution_count": 7,
   "metadata": {
    "collapsed": false
   },
   "outputs": [],
   "source": [
    "# total_list = []\n",
    "# for ar in ecal_coords:\n",
    "#     total_list.extend(ar[0])"
   ]
  },
  {
   "cell_type": "code",
   "execution_count": null,
   "metadata": {
    "collapsed": true
   },
   "outputs": [],
   "source": []
  },
  {
   "cell_type": "code",
   "execution_count": 47,
   "metadata": {
    "collapsed": false
   },
   "outputs": [
    {
     "data": {
      "image/png": "[encoded data removed]",
      "text/plain": [
       "<matplotlib.figure.Figure at 0x12c0967b8>"
      ]
     },
     "metadata": {},
     "output_type": "display_data"
    }
   ],
   "source": [
    "plt.hist(e_energy);"
   ]
  },
  {
   "cell_type": "code",
   "execution_count": 82,
   "metadata": {
    "collapsed": false
   },
   "outputs": [
    {
     "data": {
      "text/plain": [
       "(2.010660713279793, 5.176366354415428)"
      ]
     },
     "execution_count": 82,
     "metadata": {},
     "output_type": "execute_result"
    }
   ],
   "source": [
    "min(e_energy), max(e_energy)"
   ]
  },
  {
   "cell_type": "code",
   "execution_count": 55,
   "metadata": {
    "collapsed": false
   },
   "outputs": [],
   "source": [
    "recon_energy = read_data(filename,\n",
    "                            \"EcalReconstructed\", [\"fRecoE\"],\n",
    "                            treename=\"cbmsim;2\")"
   ]
  },
  {
   "cell_type": "code",
   "execution_count": 61,
   "metadata": {
    "collapsed": false
   },
   "outputs": [],
   "source": [
    "recon_energy = np.array([np.sum(val[0]) for val in recon_energy])"
   ]
  },
  {
   "cell_type": "code",
   "execution_count": 57,
   "metadata": {
    "collapsed": true
   },
   "outputs": [],
   "source": [
    "from collections import Counter"
   ]
  },
  {
   "cell_type": "code",
   "execution_count": 58,
   "metadata": {
    "collapsed": false
   },
   "outputs": [],
   "source": [
    "reco_len = Counter()\n",
    "for val in recon_energy:\n",
    "    assert len(val) ==1\n",
    "    reco_len.update([len(val[0])])\n",
    "    #assert len(val[0]) == 1"
   ]
  },
  {
   "cell_type": "code",
   "execution_count": 59,
   "metadata": {
    "collapsed": false
   },
   "outputs": [
    {
     "data": {
      "text/plain": [
       "Counter({1: 4790, 2: 206, 3: 4})"
      ]
     },
     "execution_count": 59,
     "metadata": {},
     "output_type": "execute_result"
    }
   ],
   "source": [
    "reco_len"
   ]
  },
  {
   "cell_type": "code",
   "execution_count": null,
   "metadata": {
    "collapsed": true
   },
   "outputs": [],
   "source": []
  }
 ],
 "metadata": {
  "kernelspec": {
   "display_name": "Python 3",
   "language": "python",
   "name": "python3"
  },
  "language_info": {
   "codemirror_mode": {
    "name": "ipython",
    "version": 3
   },
   "file_extension": ".py",
   "mimetype": "text/x-python",
   "name": "python",
   "nbconvert_exporter": "python",
   "pygments_lexer": "ipython3",
   "version": "3.5.2"
  }
 },
 "nbformat": 4,
 "nbformat_minor": 2
}
