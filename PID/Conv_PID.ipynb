{
 "cells": [
  {
   "cell_type": "code",
   "execution_count": 1,
   "metadata": {},
   "outputs": [
    {
     "name": "stdout",
     "output_type": "stream",
     "text": [
      "0.4.0\n"
     ]
    }
   ],
   "source": [
    "from __future__ import print_function\n",
    "import numpy as np\n",
    "import matplotlib.pyplot as plt\n",
    "%matplotlib inline\n",
    "import torch, torch.nn as nn\n",
    "import torch.nn.functional as F\n",
    "#from torch.autograd import Variable\n",
    "print(torch.__version__)"
   ]
  },
  {
   "cell_type": "code",
   "execution_count": 2,
   "metadata": {},
   "outputs": [],
   "source": [
    "import pickle"
   ]
  },
  {
   "cell_type": "code",
   "execution_count": 3,
   "metadata": {},
   "outputs": [],
   "source": [
    "class Flatten(nn.Module):\n",
    "    def forward(self, input):\n",
    "        return input.view(input.size(0), -1)"
   ]
  },
  {
   "cell_type": "code",
   "execution_count": 4,
   "metadata": {},
   "outputs": [],
   "source": [
    "class ConvPID(nn.Module):\n",
    "    def __init__(self):\n",
    "        super().__init__()\n",
    "        \n",
    "        self.conv_ECAL = nn.Sequential(\n",
    "            nn.Conv2d(1, 8, kernel_size=2),\n",
    "            nn.MaxPool2d(2),\n",
    "            nn.BatchNorm2d(8),\n",
    "            nn.ReLU(),\n",
    "            nn.Conv2d(8, 16, kernel_size=2),\n",
    "            nn.MaxPool2d(2),\n",
    "            nn.BatchNorm2d(16),\n",
    "            nn.ReLU(),\n",
    "            Flatten(),\n",
    "            nn.Linear(256, 256)\n",
    "        )\n",
    "        self.conv_HCAL = nn.Sequential(\n",
    "            nn.Conv2d(2, 8, kernel_size=2),\n",
    "            nn.MaxPool2d(2),\n",
    "            nn.BatchNorm2d(8),\n",
    "            nn.ReLU(),\n",
    "            nn.Conv2d(8, 16, kernel_size=2),\n",
    "            nn.MaxPool2d(2),\n",
    "            nn.BatchNorm2d(16),\n",
    "            nn.ReLU(),\n",
    "            Flatten(),\n",
    "            nn.Linear(256, 256)\n",
    "        )\n",
    "        self.conv_MUON = nn.Sequential(\n",
    "            nn.Conv2d(4, 8, kernel_size=2),\n",
    "            nn.MaxPool2d(2),\n",
    "            nn.BatchNorm2d(8),\n",
    "            nn.ReLU(),\n",
    "            nn.Conv2d(8, 16, kernel_size=2),\n",
    "            nn.MaxPool2d(2),\n",
    "            nn.BatchNorm2d(16),\n",
    "            nn.ReLU(),\n",
    "            Flatten(),\n",
    "            nn.Linear(256, 256)\n",
    "        )\n",
    "        \n",
    "        self.dense = nn.Linear(768, 512)\n",
    "        self.dropout = nn.Dropout(0.5)\n",
    "        self.output = nn.Linear(512, 3)\n",
    "        \n",
    "    def forward(self, pics):\n",
    "        ecal_dense = self.conv_ECAL(pics[:, :1])\n",
    "        hcal_dense = self.conv_HCAL(pics[:, 1:3])\n",
    "        muon_dense = self.conv_MUON(pics[:, 3:])\n",
    "        \n",
    "        #ecal_full = torch.cat([ecal])\n",
    "        \n",
    "        out = torch.cat([ecal_dense, hcal_dense, muon_dense], dim=-1)\n",
    "        \n",
    "        #print(out.shape)\n",
    "        return self.output(self.dropout(self.dense(out)))"
   ]
  },
  {
   "cell_type": "code",
   "execution_count": 5,
   "metadata": {},
   "outputs": [],
   "source": [
    "def read_file(filename):\n",
    "    with open(\"DET_RESPONDS/1_20_ALL/\" + filename, 'rb') as f:\n",
    "        responses = pickle.load(f, encoding='latin1')\n",
    "    \n",
    "    \n",
    "    det_responses = np.zeros((len(responses), 7, 20, 20))\n",
    "    momentum = np.zeros((len(responses), 3))\n",
    "    labels = np.ones(len(responses))\n",
    "    \n",
    "    if \"mu\" in filename:\n",
    "        labels *= 0\n",
    "    elif \"had\" in filename:\n",
    "        labels *= 2\n",
    "    \n",
    "    index = 0\n",
    "    for key, value in responses.items():\n",
    "        det_responses[index, 0] = value['ECAL'][0]\n",
    "\n",
    "        det_responses[index, 1:3] = value['HCAL'][0]\n",
    "\n",
    "        det_responses[index, 3:] = value['MUON'][0]\n",
    "\n",
    "        for det_i, det in enumerate(['ECAL', 'HCAL', 'MUON']):\n",
    "            mom = value[det][1]\n",
    "            mom = mom if mom is not None else -1\n",
    "            momentum[index, det_i] = mom\n",
    "\n",
    "        index += 1\n",
    "    return det_responses, momentum, labels"
   ]
  },
  {
   "cell_type": "markdown",
   "metadata": {},
   "source": [
    "#### Check files"
   ]
  },
  {
   "cell_type": "code",
   "execution_count": null,
   "metadata": {},
   "outputs": [],
   "source": []
  },
  {
   "cell_type": "code",
   "execution_count": 6,
   "metadata": {},
   "outputs": [],
   "source": [
    "responses, momentum, label = read_file(\"ele.pkl\")"
   ]
  },
  {
   "cell_type": "code",
   "execution_count": null,
   "metadata": {},
   "outputs": [],
   "source": []
  },
  {
   "cell_type": "code",
   "execution_count": 19,
   "metadata": {},
   "outputs": [
    {
     "name": "stdout",
     "output_type": "stream",
     "text": [
      "[16.30039943 16.10536    -1.        ]\n"
     ]
    },
    {
     "data": {
      "image/png": "[encoded data removed]",
      "text/plain": [
       "<Figure size 1152x864 with 10 Axes>"
      ]
     },
     "metadata": {},
     "output_type": "display_data"
    }
   ],
   "source": [
    "index = 45\n",
    "print(momentum[index])\n",
    "f, axes = plt.subplots(nrows=2, ncols=5, figsize=(16,12))\n",
    "for i, ax in enumerate(axes.ravel()):\n",
    "    if i == 7:\n",
    "        break\n",
    "    ax.imshow(responses[index, i])\n",
    "    ax.set_title(str(i))"
   ]
  },
  {
   "cell_type": "code",
   "execution_count": null,
   "metadata": {},
   "outputs": [],
   "source": []
  },
  {
   "cell_type": "code",
   "execution_count": null,
   "metadata": {},
   "outputs": [],
   "source": []
  },
  {
   "cell_type": "code",
   "execution_count": 20,
   "metadata": {},
   "outputs": [],
   "source": [
    "X_data = None\n",
    "y_data = None"
   ]
  },
  {
   "cell_type": "code",
   "execution_count": 21,
   "metadata": {},
   "outputs": [],
   "source": [
    "#list_of_file = ['ele.pkl', 'mu_5.pkl', 'mu_8.pkl']\n",
    "#list_of_file = ['had.pkl', 'ele.pkl', 'mu_5.pkl', 'mu_8.pkl', 'mu_1.5.pkl', 'mu_3.pkl']\n",
    "list_of_file= ['ele.pkl', 'had.pkl', 'mu.pkl']"
   ]
  },
  {
   "cell_type": "code",
   "execution_count": 22,
   "metadata": {},
   "outputs": [
    {
     "name": "stdout",
     "output_type": "stream",
     "text": [
      "ele.pkl  had.pkl  mu.pkl\r\n"
     ]
    }
   ],
   "source": [
    "!ls DET_RESPONDS/1_20_ALL/"
   ]
  },
  {
   "cell_type": "code",
   "execution_count": 23,
   "metadata": {},
   "outputs": [
    {
     "name": "stdout",
     "output_type": "stream",
     "text": [
      "Len of empty pics events: 23\n",
      "N event with -1 momentum: 23\n",
      "Len of empty pics events: 28\n",
      "N event with -1 momentum: 28\n",
      "Len of empty pics events: 22\n",
      "N event with -1 momentum: 22\n"
     ]
    }
   ],
   "source": [
    "for filename in list_of_file:\n",
    "    responses, momentum, label = read_file(filename)\n",
    "    empty_events_ind = (responses == 0).all(axis=(1,2,3))\n",
    "    print(\"Len of empty pics events: {}\".format(empty_events_ind.sum()))\n",
    "    print(\"N event with -1 momentum: {}\".format((momentum == -1).all(axis=-1).sum()))\n",
    "    \n",
    "    responses, momentum, label = responses[~empty_events_ind], momentum[~empty_events_ind],\\\n",
    "                                 label[~empty_events_ind]\n",
    "    if X_data is None:\n",
    "        X_data = responses\n",
    "        y_data = label\n",
    "        m_data = momentum\n",
    "    else:\n",
    "        X_data = np.vstack((X_data, responses))\n",
    "        y_data = np.hstack((y_data, label))\n",
    "        m_data = np.vstack((m_data, momentum))"
   ]
  },
  {
   "cell_type": "code",
   "execution_count": 24,
   "metadata": {},
   "outputs": [
    {
     "name": "stdout",
     "output_type": "stream",
     "text": [
      "2978\n",
      "2977\n",
      "2956\n"
     ]
    }
   ],
   "source": [
    "print((y_data == 0).sum())\n",
    "print((y_data == 1).sum())\n",
    "print((y_data == 2).sum())"
   ]
  },
  {
   "cell_type": "code",
   "execution_count": 120,
   "metadata": {},
   "outputs": [],
   "source": [
    "from sklearn.model_selection import train_test_split"
   ]
  },
  {
   "cell_type": "code",
   "execution_count": 121,
   "metadata": {},
   "outputs": [],
   "source": [
    "X_train, X_val, y_train, y_val, m_train, m_val = train_test_split(X_data, y_data, m_data,\n",
    "                                                                  test_size=0.1, random_state=1543)"
   ]
  },
  {
   "cell_type": "code",
   "execution_count": 122,
   "metadata": {},
   "outputs": [
    {
     "name": "stdout",
     "output_type": "stream",
     "text": [
      "273\n",
      "298\n",
      "321\n"
     ]
    }
   ],
   "source": [
    "for index in range(3):\n",
    "    print((y_val == index).sum())"
   ]
  },
  {
   "cell_type": "code",
   "execution_count": 123,
   "metadata": {},
   "outputs": [
    {
     "name": "stdout",
     "output_type": "stream",
     "text": [
      "(8019, 7, 20, 20) (892, 7, 20, 20)\n"
     ]
    }
   ],
   "source": [
    "print(X_train.shape, X_val.shape)"
   ]
  },
  {
   "cell_type": "markdown",
   "metadata": {},
   "source": [
    "# Low energy study"
   ]
  },
  {
   "cell_type": "code",
   "execution_count": 51,
   "metadata": {},
   "outputs": [],
   "source": [
    "low_m_hadrons = np.logical_and(m_data[:, 0] < 1.5, y_data == 2)\n",
    "low_m_muons = np.logical_and(m_data[:, 0] < 1.5, y_data == 0)"
   ]
  },
  {
   "cell_type": "code",
   "execution_count": 100,
   "metadata": {},
   "outputs": [
    {
     "name": "stdout",
     "output_type": "stream",
     "text": [
      "72\n",
      "[5937 6008 6102 6145 6153 6316 6347 6348 6430 6443 6464 6482 6496 6507\n",
      " 6546 6602 6666 6680 6727 6807 6868 6908 6987 7066 7110 7196 7232 7238\n",
      " 7244 7278 7288 7343 7358 7416 7505 7556 7584 7601 7661 7670 7744 7774\n",
      " 7837 7982 8013 8087 8111 8115 8123 8153 8193 8195 8218 8276 8296 8383\n",
      " 8478 8499 8530 8536 8550 8591 8595 8604 8682 8732 8737 8758 8774 8864\n",
      " 8892 8901]\n"
     ]
    }
   ],
   "source": [
    "print(low_m_muons.sum())\n",
    "print(np.where(low_m_muons)[0])"
   ]
  },
  {
   "cell_type": "code",
   "execution_count": 53,
   "metadata": {},
   "outputs": [
    {
     "name": "stdout",
     "output_type": "stream",
     "text": [
      "94\n",
      "[2980 2983 3011 3112 3118 3128 3186 3214 3246 3334 3336 3369 3405 3457\n",
      " 3521 3545 3551 3558 3578 3581 3590 3598 3602 3690 3703 3729 3785 3808\n",
      " 3872 3913 3922 3924 3946 3955 3984 3999 4018 4140 4148 4202 4220 4283\n",
      " 4285 4328 4415 4417 4439 4443 4476 4518 4558 4587 4616 4657 4676 4697\n",
      " 4811 4894 4897 4917 4939 4944 4984 5091 5101 5117 5160 5232 5233 5348\n",
      " 5374 5384 5408 5420 5426 5462 5490 5523 5575 5635 5636 5651 5677 5678\n",
      " 5679 5702 5721 5729 5756 5770 5843 5848 5849 5895]\n"
     ]
    }
   ],
   "source": [
    "print(low_m_hadrons.sum())\n",
    "print(np.where(low_m_hadrons)[0])"
   ]
  },
  {
   "cell_type": "code",
   "execution_count": 109,
   "metadata": {},
   "outputs": [],
   "source": [
    "diff_m = "
   ]
  },
  {
   "cell_type": "code",
   "execution_count": 110,
   "metadata": {},
   "outputs": [
    {
     "data": {
      "text/plain": [
       "[[]]"
      ]
     },
     "execution_count": 110,
     "metadata": {},
     "output_type": "execute_result"
    }
   ],
   "source": [
    "diff_m"
   ]
  },
  {
   "cell_type": "code",
   "execution_count": 118,
   "metadata": {},
   "outputs": [],
   "source": [
    "diff_h = [[], []]\n",
    "diff_m = [[], []]\n",
    "for index in np.where(low_m_muons)[0]:\n",
    "    row, col = np.where(X_data[index, 0])\n",
    "    diff_m[0].append(np.max(row) - np.min(row))\n",
    "    diff_m[1].append(np.max(col) - np.min(col))\n",
    "    \n",
    "for index in np.where(low_m_hadrons)[0]:\n",
    "    row, col = np.where(X_data[index, 0])\n",
    "    diff_h[0].append(np.max(row) - np.min(row))\n",
    "    diff_h[1].append(np.max(col) - np.min(col))\n",
    "diff_h = np.array(diff_h)\n",
    "diff_m = np.array(diff_m)"
   ]
  },
  {
   "cell_type": "code",
   "execution_count": null,
   "metadata": {},
   "outputs": [],
   "source": []
  },
  {
   "cell_type": "code",
   "execution_count": 119,
   "metadata": {},
   "outputs": [
    {
     "data": {
      "image/png": "[encoded data removed]",
      "text/plain": [
       "<Figure size 1152x864 with 4 Axes>"
      ]
     },
     "metadata": {},
     "output_type": "display_data"
    }
   ],
   "source": [
    "f, axes = plt.subplots(nrows=2, ncols=2, figsize=(16,12))\n",
    "axes[0,0].hist(diff_m[0, :]);\n",
    "axes[0,1].hist(diff_m[1, :]);\n",
    "axes[1,0].hist(diff_h[0, :]);\n",
    "axes[1,1].hist(diff_h[1, :]);"
   ]
  },
  {
   "cell_type": "code",
   "execution_count": 126,
   "metadata": {},
   "outputs": [
    {
     "name": "stdout",
     "output_type": "stream",
     "text": [
      "(array([12, 13]), array([14, 11]))\n",
      "[ 1.29164485 -1.         -1.        ] 2.0 1.0160929722331127\n"
     ]
    },
    {
     "data": {
      "image/png": "[encoded data removed]",
      "text/plain": [
       "<Figure size 1152x864 with 10 Axes>"
      ]
     },
     "metadata": {},
     "output_type": "display_data"
    }
   ],
   "source": [
    "index = 2980\n",
    "print(np.where(X_data[index, 0]))\n",
    "print(m_data[index], y_data[index], X_data[index, 0].sum())\n",
    "f, axes = plt.subplots(nrows=2, ncols=5, figsize=(16,12))\n",
    "for i, ax in enumerate(axes.ravel()):\n",
    "    if i == 7:\n",
    "        break\n",
    "    ax.imshow(X_data[index, i])\n",
    "    ax.set_title(str(i))"
   ]
  },
  {
   "cell_type": "markdown",
   "metadata": {},
   "source": [
    "#  Train net"
   ]
  },
  {
   "cell_type": "code",
   "execution_count": 282,
   "metadata": {},
   "outputs": [],
   "source": [
    "from tqdm import trange\n",
    "def iterate_minibatches(X, y, batchsize, shuffle=False):\n",
    "    indices = np.arange(len(X))\n",
    "    if shuffle: \n",
    "        indices = np.random.permutation(indices)\n",
    "    for start in trange(0, len(indices), batchsize):\n",
    "        ix = indices[start: start + batchsize]\n",
    "        yield X[ix], y[ix]"
   ]
  },
  {
   "cell_type": "code",
   "execution_count": 283,
   "metadata": {},
   "outputs": [],
   "source": [
    "model = ConvPID()"
   ]
  },
  {
   "cell_type": "code",
   "execution_count": 284,
   "metadata": {},
   "outputs": [],
   "source": [
    "import time\n",
    "from pandas import ewma\n",
    "from IPython import display        \n",
    "        \n",
    "opt = torch.optim.Adam(model.parameters(), lr=1e-4)\n",
    "\n",
    "num_epochs = 40\n",
    "batch_size = 128\n",
    "\n",
    "train_loss = []\n",
    "val_accuracy = []"
   ]
  },
  {
   "cell_type": "code",
   "execution_count": 292,
   "metadata": {},
   "outputs": [],
   "source": [
    "opt = torch.optim.Adam(model.parameters(), lr=1e-4 / 2)"
   ]
  },
  {
   "cell_type": "code",
   "execution_count": 285,
   "metadata": {},
   "outputs": [],
   "source": [
    "def compute_loss(X_batch, y_batch):\n",
    "    X_batch = torch.FloatTensor(X_batch).to(device)\n",
    "    y_batch = torch.LongTensor(y_batch).to(device)\n",
    "    logits = model(X_batch)\n",
    "    return F.cross_entropy(logits, y_batch).mean()"
   ]
  },
  {
   "cell_type": "code",
   "execution_count": 293,
   "metadata": {},
   "outputs": [
    {
     "data": {
      "image/png": "[encoded data removed]",
      "text/plain": [
       "<Figure size 1152x432 with 2 Axes>"
      ]
     },
     "metadata": {},
     "output_type": "display_data"
    },
    {
     "name": "stdout",
     "output_type": "stream",
     "text": [
      "Epoch 40 of 40 took 2.206s\n",
      "  training loss (in-iteration): \t0.040567\n",
      "  validation accuracy:\t\t98.43 %\n"
     ]
    }
   ],
   "source": [
    "device = torch.device(\"cpu\")\n",
    "\n",
    "for epoch in range(num_epochs):\n",
    "    # In each epoch, we do a full pass over the training data:\n",
    "    start_time = time.time()\n",
    "    model.train(True)\n",
    "    \n",
    "    epoch_loss = 0\n",
    "    for X_batch, y_batch in iterate_minibatches(X_train, y_train, batch_size, shuffle=True):\n",
    "        # train on batch\n",
    "        loss = compute_loss(X_batch, y_batch)\n",
    "        loss.backward()\n",
    "        opt.step()\n",
    "        opt.zero_grad()\n",
    "        epoch_loss += loss.item()\n",
    "        \n",
    "    train_loss.append(epoch_loss / (len(X_train) // batch_size + 1))\n",
    "        \n",
    "        \n",
    "    y_score = []\n",
    "    with torch.no_grad():\n",
    "        model.train(False)\n",
    "        for X_batch, y_batch in iterate_minibatches(X_val, y_val, batch_size, shuffle=False):\n",
    "            logits = model(torch.FloatTensor(X_batch).to(device))\n",
    "            y_pred = logits.max(dim=1)[1].detach().numpy()\n",
    "            #val_accuracy.append(np.mean(y_batch == y_pred))\n",
    "            y_score.extend(y_pred)\n",
    "    \n",
    "    y_score = np.asarray(y_score)\n",
    "    val_accuracy.append(np.mean(y_score == y_val))\n",
    "    # Visualize\n",
    "    \n",
    "    display.clear_output(wait=True)\n",
    "    #plt.figure(figsize=(8, 6))\n",
    "    f, (ax1, ax2) = plt.subplots(1, 2, figsize=(16,6))\n",
    "    ax1.set_title(\"Loss\")\n",
    "    ax1.set_xlabel(\"#Epoch\")\n",
    "    ax1.set_ylabel(\"loss\")\n",
    "    ax1.plot(train_loss, 'b', label='Train loss')\n",
    "    #ax1.plot(ewma(train_loss, span=10), 'r', label='ewma')\n",
    "    #ax1.plot(ewma(np.array(train_loss), span=10),'r',label='ewm val loss')\n",
    "    ax1.legend(loc='best')\n",
    "    ax1.grid()\n",
    "\n",
    "    ax2.set_title(\"Accuracy\")\n",
    "    ax2.set_xlabel(\"#Epoch\")\n",
    "    ax2.set_ylabel(\"Accuracy\")\n",
    "    ax2.plot(val_accuracy, 'b', label='Test acc')\n",
    "    #ax2.plot(ewma(val_accuracy, span=10), 'r', label='test ewma')\n",
    "    #ax2.plot(ewma(np.array(val_loss), span=10),'r',label='ewm val acc')\n",
    "    ax2.legend(loc='best')\n",
    "    ax2.grid()    \n",
    "\n",
    "    plt.show()\n",
    "            \n",
    "    # Then we print the results for this epoch:\n",
    "    print(\"Epoch {} of {} took {:.3f}s\".format(\n",
    "        epoch + 1, num_epochs, time.time() - start_time))\n",
    "    print(\"  training loss (in-iteration): \\t{:.6f}\".format(\n",
    "        train_loss[-1]))\n",
    "    print(\"  validation accuracy:\\t\\t{:.2f} %\".format(val_accuracy[-1] * 100))"
   ]
  },
  {
   "cell_type": "code",
   "execution_count": 294,
   "metadata": {},
   "outputs": [],
   "source": [
    "model.eval()\n",
    "predictions = model(torch.FloatTensor(X_val).to(device)).max(dim=1)[1].detach().numpy()"
   ]
  },
  {
   "cell_type": "code",
   "execution_count": 295,
   "metadata": {},
   "outputs": [
    {
     "data": {
      "text/plain": [
       "0.984304932735426"
      ]
     },
     "execution_count": 295,
     "metadata": {},
     "output_type": "execute_result"
    }
   ],
   "source": [
    "np.mean((predictions == y_val))"
   ]
  },
  {
   "cell_type": "code",
   "execution_count": 296,
   "metadata": {},
   "outputs": [
    {
     "data": {
      "text/plain": [
       "(892,)"
      ]
     },
     "execution_count": 296,
     "metadata": {},
     "output_type": "execute_result"
    }
   ],
   "source": [
    "y_val.shape"
   ]
  },
  {
   "cell_type": "code",
   "execution_count": 232,
   "metadata": {},
   "outputs": [
    {
     "data": {
      "text/plain": [
       "48"
      ]
     },
     "execution_count": 232,
     "metadata": {},
     "output_type": "execute_result"
    }
   ],
   "source": [
    "(y_val == 2).sum()"
   ]
  },
  {
   "cell_type": "code",
   "execution_count": 297,
   "metadata": {},
   "outputs": [],
   "source": [
    "from collections import Counter\n",
    "count = Counter()"
   ]
  },
  {
   "cell_type": "code",
   "execution_count": 298,
   "metadata": {},
   "outputs": [],
   "source": [
    "count.update(y_val[(predictions != y_val)])"
   ]
  },
  {
   "cell_type": "code",
   "execution_count": 299,
   "metadata": {},
   "outputs": [
    {
     "data": {
      "text/plain": [
       "Counter({0.0: 7, 1.0: 3, 2.0: 4})"
      ]
     },
     "execution_count": 299,
     "metadata": {},
     "output_type": "execute_result"
    }
   ],
   "source": [
    "count"
   ]
  },
  {
   "cell_type": "code",
   "execution_count": 338,
   "metadata": {},
   "outputs": [
    {
     "data": {
      "text/plain": [
       "array([ 46,  55,  67,  76, 216, 290, 540, 591, 603, 694, 698, 713, 717,\n",
       "       823])"
      ]
     },
     "execution_count": 338,
     "metadata": {},
     "output_type": "execute_result"
    }
   ],
   "source": [
    "misident_ind = np.where(predictions != y_val)[0]\n",
    "misident_ind"
   ]
  },
  {
   "cell_type": "code",
   "execution_count": 323,
   "metadata": {},
   "outputs": [],
   "source": [
    "index = 591"
   ]
  },
  {
   "cell_type": "code",
   "execution_count": 219,
   "metadata": {},
   "outputs": [],
   "source": [
    "# initially_zero_evnts = (X_val[misident_ind, ...] == 0).all(axis=(1,2,3))\n",
    "# print(initially_zero_evnts.sum())\n",
    "# initially_zero_evnts"
   ]
  },
  {
   "cell_type": "code",
   "execution_count": 324,
   "metadata": {},
   "outputs": [
    {
     "data": {
      "image/png": "[encoded data removed]",
      "text/plain": [
       "<Figure size 1152x864 with 5 Axes>"
      ]
     },
     "metadata": {},
     "output_type": "display_data"
    }
   ],
   "source": [
    "f, axes = plt.subplots(nrows=1, ncols=5, figsize=(16,12))\n",
    "for i, ax in enumerate(axes.ravel()):\n",
    "    ax.imshow(X_val[index, i])\n",
    "    ax.set_title(str(i))"
   ]
  },
  {
   "cell_type": "code",
   "execution_count": 325,
   "metadata": {},
   "outputs": [
    {
     "data": {
      "text/plain": [
       "0"
      ]
     },
     "execution_count": 325,
     "metadata": {},
     "output_type": "execute_result"
    }
   ],
   "source": [
    "predictions[index]"
   ]
  },
  {
   "cell_type": "code",
   "execution_count": 326,
   "metadata": {},
   "outputs": [
    {
     "data": {
      "text/plain": [
       "2.0"
      ]
     },
     "execution_count": 326,
     "metadata": {},
     "output_type": "execute_result"
    }
   ],
   "source": [
    "y_val[index]"
   ]
  },
  {
   "cell_type": "code",
   "execution_count": 327,
   "metadata": {},
   "outputs": [
    {
     "data": {
      "text/plain": [
       "tensor([ 9.9556e-01,  1.8931e-11,  4.4416e-03])"
      ]
     },
     "execution_count": 327,
     "metadata": {},
     "output_type": "execute_result"
    }
   ],
   "source": [
    "F.softmax(model(torch.FloatTensor(X_val).to(device))[index], dim=0)"
   ]
  },
  {
   "cell_type": "code",
   "execution_count": 328,
   "metadata": {},
   "outputs": [
    {
     "data": {
      "text/plain": [
       "array([16.95574604, 16.75985153, 16.75985153])"
      ]
     },
     "execution_count": 328,
     "metadata": {},
     "output_type": "execute_result"
    }
   ],
   "source": [
    "m_val[index]"
   ]
  },
  {
   "cell_type": "code",
   "execution_count": 335,
   "metadata": {},
   "outputs": [],
   "source": [
    "low_m_muons = np.logical_and(np.linalg.norm(m_val, axis=1) < 3, y_val == 0)"
   ]
  },
  {
   "cell_type": "code",
   "execution_count": 345,
   "metadata": {},
   "outputs": [
    {
     "data": {
      "text/plain": [
       "(12,)"
      ]
     },
     "execution_count": 345,
     "metadata": {},
     "output_type": "execute_result"
    }
   ],
   "source": [
    "np.where(low_m_muons)[0].shape"
   ]
  },
  {
   "cell_type": "code",
   "execution_count": 346,
   "metadata": {},
   "outputs": [
    {
     "data": {
      "text/plain": [
       "4"
      ]
     },
     "execution_count": 346,
     "metadata": {},
     "output_type": "execute_result"
    }
   ],
   "source": [
    "np.isin(np.where(low_m_muons)[0],misident_ind).sum()"
   ]
  },
  {
   "cell_type": "code",
   "execution_count": null,
   "metadata": {},
   "outputs": [],
   "source": []
  },
  {
   "cell_type": "code",
   "execution_count": 336,
   "metadata": {},
   "outputs": [
    {
     "data": {
      "text/plain": [
       "array([2.09713653, 2.64863962, 2.62793177, 2.30953224, 1.9806869 ,\n",
       "       2.07524627, 1.96844174, 1.79288015, 2.61209542, 2.57178705,\n",
       "       2.01579762, 1.71162029])"
      ]
     },
     "execution_count": 336,
     "metadata": {},
     "output_type": "execute_result"
    }
   ],
   "source": [
    "np.linalg.norm(m_val, axis=1)[low_m_muons]"
   ]
  },
  {
   "cell_type": "code",
   "execution_count": null,
   "metadata": {},
   "outputs": [],
   "source": []
  }
 ],
 "metadata": {
  "kernelspec": {
   "display_name": "Python 3",
   "language": "python",
   "name": "python3"
  },
  "language_info": {
   "codemirror_mode": {
    "name": "ipython",
    "version": 3
   },
   "file_extension": ".py",
   "mimetype": "text/x-python",
   "name": "python",
   "nbconvert_exporter": "python",
   "pygments_lexer": "ipython3",
   "version": "3.5.2"
  }
 },
 "nbformat": 4,
 "nbformat_minor": 2
}
